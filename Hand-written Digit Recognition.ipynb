{
 "cells": [
  {
   "cell_type": "markdown",
   "metadata": {},
   "source": [
    " \n",
    "# Hand-written Digit Recognition (Using Keras)\n",
    "\n",
    "This notebook uses tensorflow Keras package to define, train and evaluate deep learning models with Keras. This notebook introduces basic feedforward architecture multi-layer neural nets. Feedforward networks are one of a class of basic models called **sequential models** which are easy to define with Keras. Further, some basic regularization is introduced."
   ]
  },
  {
   "cell_type": "markdown",
   "metadata": {},
   "source": [
    "Building a simple feedforward neural network to classify handwritten digits from the famous MNIST data set. MNIST contains 60,000 labeled training images and 10,000 test images. MNIST dataset is considered as the 'hello world' problem of deep learning. "
   ]
  },
  {
   "cell_type": "markdown",
   "metadata": {},
   "source": [
    "### 1.1 Loading the MNIST data set\n",
    "\n",
    "MNIST is built in too the `keras.datasets` package. We only need to import this package and then load it."
   ]
  },
  {
   "cell_type": "code",
   "execution_count": 1,
   "metadata": {},
   "outputs": [
    {
     "name": "stderr",
     "output_type": "stream",
     "text": [
      "Using TensorFlow backend.\n"
     ]
    }
   ],
   "source": [
    "from keras.datasets import mnist\n",
    "import keras.utils.np_utils as ku\n",
    "import tensorflow.keras.models as models\n",
    "import tensorflow.keras.layers as layers\n",
    "from tensorflow.keras import regularizers\n",
    "from tensorflow.keras.optimizers import RMSprop\n",
    "import numpy as np\n",
    "import numpy.random as nr\n",
    "import matplotlib.pyplot as plt\n",
    "%matplotlib inline"
   ]
  },
  {
   "cell_type": "code",
   "execution_count": 2,
   "metadata": {},
   "outputs": [],
   "source": [
    "import warnings\n",
    "warnings.filterwarnings(\"ignore\")"
   ]
  },
  {
   "cell_type": "markdown",
   "metadata": {},
   "source": [
    "Now, load the training and testing images and corresponding labels by executing the coded in the cell below. The `load_data` method creates two tuples of the images and labels for training and testing models. "
   ]
  },
  {
   "cell_type": "code",
   "execution_count": 3,
   "metadata": {},
   "outputs": [],
   "source": [
    "(train_images, train_labels), (test_images, test_labels) = mnist.load_data()"
   ]
  },
  {
   "cell_type": "markdown",
   "metadata": {},
   "source": [
    "With the data loaded, let's have a peak at some of the content. The images of the handwritten digits are represented as rectangular arrays of dimension $28x28$. You can see this by executing the code in the cell below."
   ]
  },
  {
   "cell_type": "code",
   "execution_count": 4,
   "metadata": {},
   "outputs": [
    {
     "name": "stdout",
     "output_type": "stream",
     "text": [
      "(28, 28)\n"
     ]
    }
   ],
   "source": [
    "print(train_images[2].shape)"
   ]
  },
  {
   "cell_type": "markdown",
   "metadata": {},
   "source": [
    "The handwritten images are all gray-scale, so do not have a color dimension. \n",
    "\n",
    "The code in the cell below displays 5 of the 60,000 images of handwritten digits along with their labels."
   ]
  },
  {
   "cell_type": "code",
   "execution_count": 5,
   "metadata": {},
   "outputs": [
    {
     "data": {
      "image/png": "[encoded data removed]",
      "text/plain": [
       "<Figure size 432x288 with 1 Axes>"
      ]
     },
     "metadata": {
      "needs_background": "light"
     },
     "output_type": "display_data"
    },
    {
     "name": "stdout",
     "output_type": "stream",
     "text": [
      "Label = 2\n"
     ]
    },
    {
     "data": {
      "image/png": "[encoded data removed]",
      "text/plain": [
       "<Figure size 432x288 with 1 Axes>"
      ]
     },
     "metadata": {
      "needs_background": "light"
     },
     "output_type": "display_data"
    },
    {
     "name": "stdout",
     "output_type": "stream",
     "text": [
      "Label = 3\n"
     ]
    },
    {
     "data": {
      "image/png": "[encoded data removed]",
      "text/plain": [
       "<Figure size 432x288 with 1 Axes>"
      ]
     },
     "metadata": {
      "needs_background": "light"
     },
     "output_type": "display_data"
    },
    {
     "name": "stdout",
     "output_type": "stream",
     "text": [
      "Label = 7\n"
     ]
    },
    {
     "data": {
      "image/png": "[encoded data removed]",
      "text/plain": [
       "<Figure size 432x288 with 1 Axes>"
      ]
     },
     "metadata": {
      "needs_background": "light"
     },
     "output_type": "display_data"
    },
    {
     "name": "stdout",
     "output_type": "stream",
     "text": [
      "Label = 4\n"
     ]
    },
    {
     "data": {
      "image/png": "[encoded data removed]",
      "text/plain": [
       "<Figure size 432x288 with 1 Axes>"
      ]
     },
     "metadata": {
      "needs_background": "light"
     },
     "output_type": "display_data"
    },
    {
     "name": "stdout",
     "output_type": "stream",
     "text": [
      "Label = 2\n"
     ]
    }
   ],
   "source": [
    "for i in range(5, 30, 5):\n",
    "    plt.imshow(train_images[i], cmap=plt.cm.binary)\n",
    "    plt.show()\n",
    "    print('Label = ' + str(train_labels[i]))"
   ]
  },
  {
   "cell_type": "markdown",
   "metadata": {},
   "source": [
    "### 1.2 Prepare the data for training\n",
    "\n",
    "As is the case with all machine learning problems, preparing the data is an important step. Without careful data preparation even the best models will produce poor results, or even fail to execute. \n",
    "\n",
    "The MNIST images are stored as a 3-d tensor. Each image tensor has dimensions $6000\\ x\\ 28\\ x\\ 28$. However, to train a neural network on these images we must flatten this representation so that each image is a vector of length $28 * 28$. The result will be a 2-d tensor of dimensions $60000\\ x\\ (28*28)$.\n",
    "\n",
    "Further, models created with Keras, and most other deep learning frameworks, operate on floating point numbers. The gray scale pixel values of the images are coded as integers in the range $\\{ 0, 255 \\}$. These pixel values must be coerced to floating point and then standardized to be in a range $\\{ 0.0, 1.0 \\}$. As is the case for training many machine learning models, it is best to use standardized values for training deep neural networks. \n",
    "\n",
    "The code in the cell below flattens the images and converts the pixel values to a standardized floating point number."
   ]
  },
  {
   "cell_type": "code",
   "execution_count": 6,
   "metadata": {
    "scrolled": true
   },
   "outputs": [
    {
     "name": "stdout",
     "output_type": "stream",
     "text": [
      "(60000, 28, 28) (60000,)\n",
      "(60000, 784)\n",
      "float32\n"
     ]
    }
   ],
   "source": [
    "print(train_images.shape, train_labels.shape)\n",
    "train_images = train_images.reshape((60000, 28*28)).astype('float32')/255\n",
    "print(train_images.shape)\n",
    "print(train_images.dtype)"
   ]
  },
  {
   "cell_type": "markdown",
   "metadata": {},
   "source": [
    "Notice the original shape and resulting shape of the training image tensor. In addition, the array is now of type `float32`. \n",
    "\n",
    "Executing the code in the cell below to apply the  same transformation to the test images. "
   ]
  },
  {
   "cell_type": "code",
   "execution_count": 7,
   "metadata": {},
   "outputs": [
    {
     "name": "stdout",
     "output_type": "stream",
     "text": [
      "(10000, 28, 28) (10000,)\n",
      "(10000, 784)\n"
     ]
    }
   ],
   "source": [
    "print(test_images.shape, test_labels.shape)\n",
    "test_images = test_images.reshape((10000, 28*28)).astype('float32')/255\n",
    "print(test_images.shape)"
   ]
  },
  {
   "cell_type": "markdown",
   "metadata": {},
   "source": [
    "Since we are working on a classification problem, the label values must be of a categorical type. Let's check these labels. "
   ]
  },
  {
   "cell_type": "code",
   "execution_count": 8,
   "metadata": {
    "scrolled": true
   },
   "outputs": [
    {
     "name": "stdout",
     "output_type": "stream",
     "text": [
      "[2 1 3 ... 5 6 8]\n"
     ]
    }
   ],
   "source": [
    "print(train_labels[5:,])"
   ]
  },
  {
   "cell_type": "markdown",
   "metadata": {},
   "source": [
    "The labels are coded as integers corresponding to the digit in the image. These values must be coerced to a categorical type. For Keras, categorical types must be **one hot encoded**. One hot encoding is a set of binary columns, one for each category.       \n",
    "\n",
    "Fortunately the `to_categorical` method in the `keras.utils.np_utils` package does just this."
   ]
  },
  {
   "cell_type": "code",
   "execution_count": 9,
   "metadata": {},
   "outputs": [
    {
     "name": "stdout",
     "output_type": "stream",
     "text": [
      "[[0. 0. 1. ... 0. 0. 0.]\n",
      " [0. 1. 0. ... 0. 0. 0.]\n",
      " [0. 0. 0. ... 0. 0. 0.]\n",
      " ...\n",
      " [0. 0. 0. ... 0. 0. 0.]\n",
      " [0. 0. 0. ... 0. 0. 0.]\n",
      " [0. 0. 0. ... 0. 1. 0.]]\n"
     ]
    }
   ],
   "source": [
    "train_labels = ku.to_categorical(train_labels)\n",
    "print(train_labels[5:,])"
   ]
  },
  {
   "cell_type": "markdown",
   "metadata": {},
   "source": [
    "Notice that the label values have been converted from integers to a set of **10 dummy variables** of the one hot encoding. The columns of the dummy variables represent digits in the range $\\{ 0,9 \\}$. One dummy variable per case will be coded as $1$ and the rest coded as $0$. For example the first row in the example above encodes a $2$, and the second row encodes a $1$.\n",
    "\n",
    "Executing the code in the cell below to coerce the test labels to dummy variables. "
   ]
  },
  {
   "cell_type": "code",
   "execution_count": 10,
   "metadata": {},
   "outputs": [],
   "source": [
    "test_labels = ku.to_categorical(test_labels)"
   ]
  },
  {
   "cell_type": "markdown",
   "metadata": {},
   "source": [
    "### 1.3  Defining a sequential model\n",
    "\n",
    "The data is prepared, so it is time to start defining a neural nework model. A simple feedforward model is used which is one type of sequential model Keras can create. The squential model is defined as follows:\n",
    "1. A sequential model object `nn` is defined. \n",
    "2. A single hidden layer is defined. \n",
    "  - This layer is dense (fully connected) with 512 units. \n",
    "  - The activation of each unit is rectilinear.\n",
    "  - The hidden layer is expecting an input tensor of $28*28$ by an undefined number of cases (images). \n",
    "3. The output layer has 10 hidden units. \n",
    "  - We need 10 units since there are 10 categories of handwritten digits we are classifing. \n",
    "  - This is a **Multinomial** classification problem so we are using softmax activation. \n",
    "  \n",
    "Let's execute this code to define the model. "
   ]
  },
  {
   "cell_type": "code",
   "execution_count": 11,
   "metadata": {},
   "outputs": [],
   "source": [
    "nn = models.Sequential()\n",
    "nn.add(layers.Dense(512, activation = 'relu', input_shape = (28*28, )))\n",
    "nn.add(layers.Dense(10, activation = 'softmax'))"
   ]
  },
  {
   "cell_type": "markdown",
   "metadata": {},
   "source": [
    "### 1.4 Training and evaluating the sequential model\n",
    "\n",
    "With a defined model it is time to train and evaluate it. First, the model must be compiled by executing the code below. This call specifies the following:\n",
    "\n",
    "1. Specify an optimizer. \n",
    "2. Specify a loss function. In this case we are performing Multinomial classification so we are using `categorical_crossentropy`.\n",
    "3. Specify one or more metrics used to evaluate the performance of the model. In this case we are using just one metric, accuracy. "
   ]
  },
  {
   "cell_type": "code",
   "execution_count": 12,
   "metadata": {},
   "outputs": [],
   "source": [
    "nn.compile(optimizer = 'rmsprop', loss = 'categorical_crossentropy', metrics = ['accuracy'])"
   ]
  },
  {
   "cell_type": "markdown",
   "metadata": {},
   "source": [
    "Now, the model is ready to be trained using the `fit` method by executing the code in the cell below. The `fit` method has several arguments:\n",
    "\n",
    "1. The training features.\n",
    "2. The training labels.\n",
    "3. The number of epochs (iterations) over which the model is trained.\n",
    "4. The batch size used for the optimizer."
   ]
  },
  {
   "cell_type": "code",
   "execution_count": 13,
   "metadata": {
    "scrolled": false
   },
   "outputs": [
    {
     "name": "stderr",
     "output_type": "stream",
     "text": [
      "WARNING: Logging before flag parsing goes to stderr.\n",
      "W0814 16:08:57.360511  9656 deprecation.py:323] From C:\\Users\\Takesh\\Anaconda3\\envs\\tf\\lib\\site-packages\\tensorflow\\python\\ops\\math_grad.py:1250: add_dispatch_support.<locals>.wrapper (from tensorflow.python.ops.array_ops) is deprecated and will be removed in a future version.\n",
      "Instructions for updating:\n",
      "Use tf.where in 2.0, which has the same broadcast rule as np.where\n"
     ]
    },
    {
     "name": "stdout",
     "output_type": "stream",
     "text": [
      "Train on 60000 samples\n",
      "Epoch 1/5\n",
      "60000/60000 [==============================] - 2s 41us/sample - loss: 0.2575 - accuracy: 0.9254\n",
      "Epoch 2/5\n",
      "60000/60000 [==============================] - 3s 42us/sample - loss: 0.1041 - accuracy: 0.9693\n",
      "Epoch 3/5\n",
      "60000/60000 [==============================] - 3s 45us/sample - loss: 0.0687 - accuracy: 0.9797\n",
      "Epoch 4/5\n",
      "60000/60000 [==============================] - 2s 41us/sample - loss: 0.0502 - accuracy: 0.9851\n",
      "Epoch 5/5\n",
      "60000/60000 [==============================] - 3s 43us/sample - loss: 0.0373 - accuracy: 0.9887\n"
     ]
    },
    {
     "data": {
      "text/plain": [
       "<tensorflow.python.keras.callbacks.History at 0x2318910cba8>"
      ]
     },
     "execution_count": 13,
     "metadata": {},
     "output_type": "execute_result"
    }
   ],
   "source": [
    "nr.seed(9898)\n",
    "nn.fit(train_images, train_labels, epochs = 5, batch_size = 128)"
   ]
  },
  {
   "cell_type": "markdown",
   "metadata": {},
   "source": [
    "Notice that the loss declines and the accuracy increases with each training epoch. However, since neural networks tend to be over-fit, these improved figures may or may not indicate that the model is actually getting better. Keep in mind that the model may simply be learning the training data. \n",
    "\n",
    "It is necessary to test the model on independent data set. The `evaluate` method allows you to do just this. Executing the code in the cell below and compare the results to training results.  "
   ]
  },
  {
   "cell_type": "code",
   "execution_count": 14,
   "metadata": {},
   "outputs": [
    {
     "name": "stdout",
     "output_type": "stream",
     "text": [
      "10000/10000 [==============================] - 0s 28us/sample - loss: 0.0672 - accuracy: 0.9807\n"
     ]
    },
    {
     "data": {
      "text/plain": [
       "[0.06716989181343233, 0.9807]"
      ]
     },
     "execution_count": 14,
     "metadata": {},
     "output_type": "execute_result"
    }
   ],
   "source": [
    "nn.evaluate(test_images, test_labels)"
   ]
  },
  {
   "cell_type": "markdown",
   "metadata": {},
   "source": [
    "It appears that the model is over-fit since the evaluation loss and accuracy are a bit worse than observed in training. "
   ]
  },
  {
   "cell_type": "markdown",
   "metadata": {},
   "source": [
    "## Training over epochs\n",
    "\n",
    "In order to determine at what point a model is overfit during training it is necessary to evaluate the model after each training epoch. A `history` object is created which contains the history of various metrics during the training or fitting process. \n",
    "\n",
    "Notice that the `validation_data` argument must be specified so that performance of the model can be computed at the end or each epoch. The printed history of the training will include the validation loss and validation accuracy for each epoch. "
   ]
  },
  {
   "cell_type": "code",
   "execution_count": 15,
   "metadata": {},
   "outputs": [
    {
     "name": "stdout",
     "output_type": "stream",
     "text": [
      "Model: \"sequential_1\"\n",
      "_________________________________________________________________\n",
      "Layer (type)                 Output Shape              Param #   \n",
      "=================================================================\n",
      "dense_2 (Dense)              (None, 512)               401920    \n",
      "_________________________________________________________________\n",
      "dense_3 (Dense)              (None, 10)                5130      \n",
      "=================================================================\n",
      "Total params: 407,050\n",
      "Trainable params: 407,050\n",
      "Non-trainable params: 0\n",
      "_________________________________________________________________\n",
      "Train on 60000 samples, validate on 10000 samples\n",
      "Epoch 1/10\n",
      "60000/60000 [==============================] - 4s 62us/sample - loss: 0.2570 - accuracy: 0.9252 - val_loss: 0.1299 - val_accuracy: 0.9592\n",
      "Epoch 2/10\n",
      "60000/60000 [==============================] - 4s 59us/sample - loss: 0.1027 - accuracy: 0.9691 - val_loss: 0.0852 - val_accuracy: 0.9741\n",
      "Epoch 3/10\n",
      "60000/60000 [==============================] - 4s 62us/sample - loss: 0.0674 - accuracy: 0.9797 - val_loss: 0.0726 - val_accuracy: 0.9767\n",
      "Epoch 4/10\n",
      "60000/60000 [==============================] - 3s 55us/sample - loss: 0.0496 - accuracy: 0.9855 - val_loss: 0.0720 - val_accuracy: 0.9784\n",
      "Epoch 5/10\n",
      "60000/60000 [==============================] - 3s 53us/sample - loss: 0.0368 - accuracy: 0.9892 - val_loss: 0.0700 - val_accuracy: 0.9788\n",
      "Epoch 6/10\n",
      "60000/60000 [==============================] - 3s 51us/sample - loss: 0.0279 - accuracy: 0.9919 - val_loss: 0.0692 - val_accuracy: 0.9800\n",
      "Epoch 7/10\n",
      "60000/60000 [==============================] - 3s 51us/sample - loss: 0.0215 - accuracy: 0.9937 - val_loss: 0.0665 - val_accuracy: 0.9813\n",
      "Epoch 8/10\n",
      "60000/60000 [==============================] - 3s 57us/sample - loss: 0.0169 - accuracy: 0.9953 - val_loss: 0.0610 - val_accuracy: 0.9833\n",
      "Epoch 9/10\n",
      "60000/60000 [==============================] - 3s 53us/sample - loss: 0.0124 - accuracy: 0.9966 - val_loss: 0.0685 - val_accuracy: 0.9815\n",
      "Epoch 10/10\n",
      "60000/60000 [==============================] - 3s 52us/sample - loss: 0.0105 - accuracy: 0.9970 - val_loss: 0.0668 - val_accuracy: 0.9835\n"
     ]
    }
   ],
   "source": [
    "## Define a sequential model and print a summary\n",
    "nnt = models.Sequential()\n",
    "nnt.add(layers.Dense(512, activation = 'relu', input_shape = (28*28, )))\n",
    "nnt.add(layers.Dense(10, activation = 'softmax'))\n",
    "nnt.summary()\n",
    "\n",
    "## Compile the model. \n",
    "nnt.compile(optimizer = 'rmsprop', loss = 'categorical_crossentropy', \n",
    "                metrics = ['accuracy'])\n",
    " \n",
    "## Fit the model saving the results to a history file \n",
    "nr.seed(4678)   \n",
    "history = nnt.fit(train_images, train_labels, \n",
    "                  epochs = 10, batch_size = 128,\n",
    "                  validation_data = (test_images, test_labels))"
   ]
  },
  {
   "cell_type": "markdown",
   "metadata": {},
   "source": [
    "To aid in understanding these figures it will help to make some plots comparing the training and evaluation performance as the training epochs evolve. The code in the next two cells does this is a somewhat primitive manner. The Numpy array is manually edited to include the training loss and training accuracy. \n",
    "\n",
    "The `plot_loss` and `plot_accuracy` functions, in the next two cell, plot the training loss or accuracy in blue and the test loss or accuracy in red. Executing the code and examine the plots. "
   ]
  },
  {
   "cell_type": "code",
   "execution_count": 16,
   "metadata": {},
   "outputs": [
    {
     "data": {
      "image/png": "[encoded data removed]",
      "text/plain": [
       "<Figure size 432x288 with 1 Axes>"
      ]
     },
     "metadata": {
      "needs_background": "light"
     },
     "output_type": "display_data"
    }
   ],
   "source": [
    "def plot_loss(history):\n",
    "    train_loss = history.history['loss']\n",
    "    test_loss = history.history['val_loss']\n",
    "    x = list(range(1, len(test_loss) + 1))\n",
    "    plt.plot(x, test_loss, color = 'red', label = 'test loss')\n",
    "    plt.plot(x, train_loss, label = 'traning loss')\n",
    "    plt.xlabel('Epoch')\n",
    "    plt.ylabel('Loss')\n",
    "    plt.title('Loss vs. Epoch')\n",
    "    plt.legend()\n",
    "    \n",
    "plot_loss(history)  "
   ]
  },
  {
   "cell_type": "code",
   "execution_count": 17,
   "metadata": {
    "scrolled": true
   },
   "outputs": [
    {
     "data": {
      "image/png": "[encoded data removed]",
      "text/plain": [
       "<Figure size 432x288 with 1 Axes>"
      ]
     },
     "metadata": {
      "needs_background": "light"
     },
     "output_type": "display_data"
    }
   ],
   "source": [
    "def plot_accuracy(history):\n",
    "    train_acc = history.history['accuracy']\n",
    "    test_acc = history.history['val_accuracy']\n",
    "    x = list(range(1, len(test_acc) + 1))\n",
    "    plt.plot(x, test_acc, color = 'red', label = 'test accuracy')\n",
    "    plt.plot(x, train_acc, label = 'training accuracy')  \n",
    "    plt.xlabel('Epoch')\n",
    "    plt.ylabel('Accuracy')\n",
    "    plt.title('Accuracy vs. Epoch')  \n",
    "    plt.legend(loc='lower right')\n",
    "    \n",
    "plot_accuracy(history)    "
   ]
  },
  {
   "cell_type": "markdown",
   "metadata": {},
   "source": [
    "Notice that the training loss and accuracy continue to improve throughout the epochs. However, the evaluation loss and accuracy only improve significantly for the first four, or perhaps 5, epochs. This is clear evidence that subsequent epochs are simply over-fitting the model. "
   ]
  },
  {
   "cell_type": "markdown",
   "metadata": {},
   "source": [
    "## Adding hidden layers\n",
    "\n",
    "Next, we will add an additional hidden layer to the model. Additional layers add capacity to the model to represent complex function. However, the network becomes more susceptible to over fitting.\n",
    "\n",
    "The code in the cell below defines a model similar to the first one, but with a second layer defined. Notice that the definition of the two layer model is nearly the same as for the single layer model. In this case, the second layer has the same number of units and activation function as the first. \n",
    "\n",
    "However, notice that the `input_shape` does not need to be defined for hidden layers past the first. Keras will determine the dimensions of tensors passed between layers beyond the input. "
   ]
  },
  {
   "cell_type": "code",
   "execution_count": 18,
   "metadata": {},
   "outputs": [
    {
     "name": "stdout",
     "output_type": "stream",
     "text": [
      "Model: \"sequential_2\"\n",
      "_________________________________________________________________\n",
      "Layer (type)                 Output Shape              Param #   \n",
      "=================================================================\n",
      "dense_4 (Dense)              (None, 512)               401920    \n",
      "_________________________________________________________________\n",
      "dense_5 (Dense)              (None, 512)               262656    \n",
      "_________________________________________________________________\n",
      "dense_6 (Dense)              (None, 10)                5130      \n",
      "=================================================================\n",
      "Total params: 669,706\n",
      "Trainable params: 669,706\n",
      "Non-trainable params: 0\n",
      "_________________________________________________________________\n",
      "Train on 60000 samples, validate on 10000 samples\n",
      "Epoch 1/20\n",
      "60000/60000 [==============================] - 6s 96us/sample - loss: 0.2191 - accuracy: 0.9316 - val_loss: 0.1083 - val_accuracy: 0.9655\n",
      "Epoch 2/20\n",
      "60000/60000 [==============================] - 6s 96us/sample - loss: 0.0803 - accuracy: 0.9755 - val_loss: 0.0775 - val_accuracy: 0.9777\n",
      "Epoch 3/20\n",
      "60000/60000 [==============================] - 5s 91us/sample - loss: 0.0522 - accuracy: 0.9842 - val_loss: 0.0779 - val_accuracy: 0.9772\n",
      "Epoch 4/20\n",
      "60000/60000 [==============================] - 5s 90us/sample - loss: 0.0365 - accuracy: 0.9885 - val_loss: 0.0827 - val_accuracy: 0.9786\n",
      "Epoch 5/20\n",
      "60000/60000 [==============================] - 6s 92us/sample - loss: 0.0289 - accuracy: 0.9911 - val_loss: 0.0753 - val_accuracy: 0.9820\n",
      "Epoch 6/20\n",
      "60000/60000 [==============================] - 5s 86us/sample - loss: 0.0236 - accuracy: 0.9933 - val_loss: 0.0808 - val_accuracy: 0.9824\n",
      "Epoch 7/20\n",
      "60000/60000 [==============================] - 6s 93us/sample - loss: 0.0185 - accuracy: 0.9946 - val_loss: 0.0934 - val_accuracy: 0.9800\n",
      "Epoch 8/20\n",
      "60000/60000 [==============================] - 5s 90us/sample - loss: 0.0162 - accuracy: 0.9949 - val_loss: 0.1019 - val_accuracy: 0.9819\n",
      "Epoch 9/20\n",
      "60000/60000 [==============================] - 5s 85us/sample - loss: 0.0130 - accuracy: 0.9961 - val_loss: 0.0908 - val_accuracy: 0.9841\n",
      "Epoch 10/20\n",
      "60000/60000 [==============================] - 6s 92us/sample - loss: 0.0116 - accuracy: 0.9967 - val_loss: 0.1256 - val_accuracy: 0.9780\n",
      "Epoch 11/20\n",
      "60000/60000 [==============================] - 5s 87us/sample - loss: 0.0117 - accuracy: 0.9968 - val_loss: 0.1053 - val_accuracy: 0.9827\n",
      "Epoch 12/20\n",
      "60000/60000 [==============================] - 5s 87us/sample - loss: 0.0087 - accuracy: 0.9972 - val_loss: 0.1034 - val_accuracy: 0.9834\n",
      "Epoch 13/20\n",
      "60000/60000 [==============================] - 5s 89us/sample - loss: 0.0083 - accuracy: 0.9976 - val_loss: 0.1404 - val_accuracy: 0.9799\n",
      "Epoch 14/20\n",
      "60000/60000 [==============================] - 5s 88us/sample - loss: 0.0071 - accuracy: 0.9978 - val_loss: 0.1244 - val_accuracy: 0.9819\n",
      "Epoch 15/20\n",
      "60000/60000 [==============================] - 5s 87us/sample - loss: 0.0080 - accuracy: 0.9979 - val_loss: 0.1226 - val_accuracy: 0.9823\n",
      "Epoch 16/20\n",
      "60000/60000 [==============================] - 6s 92us/sample - loss: 0.0077 - accuracy: 0.9981 - val_loss: 0.1433 - val_accuracy: 0.9797\n",
      "Epoch 17/20\n",
      "60000/60000 [==============================] - 5s 91us/sample - loss: 0.0065 - accuracy: 0.9980 - val_loss: 0.1308 - val_accuracy: 0.9825\n",
      "Epoch 18/20\n",
      "60000/60000 [==============================] - 6s 105us/sample - loss: 0.0078 - accuracy: 0.9981 - val_loss: 0.1431 - val_accuracy: 0.9800\n",
      "Epoch 19/20\n",
      "60000/60000 [==============================] - 5s 88us/sample - loss: 0.0051 - accuracy: 0.9987 - val_loss: 0.1395 - val_accuracy: 0.9807\n",
      "Epoch 20/20\n",
      "60000/60000 [==============================] - 6s 97us/sample - loss: 0.0049 - accuracy: 0.9985 - val_loss: 0.1572 - val_accuracy: 0.9817\n"
     ]
    }
   ],
   "source": [
    "## Define a sequential model\n",
    "nnt = models.Sequential()\n",
    "nnt.add(layers.Dense(512, activation = 'relu', input_shape = (28*28, )))\n",
    "nnt.add(layers.Dense(512, activation = 'relu'))\n",
    "nnt.add(layers.Dense(10, activation = 'softmax'))\n",
    "nnt.summary()\n",
    "\n",
    "## Compile the model\n",
    "nnt.compile(optimizer = 'rmsprop', loss = 'categorical_crossentropy', \n",
    "                metrics = ['accuracy'])\n",
    "    \n",
    "## Fit the model, saving the results to a history file.         \n",
    "nr.seed(2432)\n",
    "history = nnt.fit(train_images, train_labels, \n",
    "                  epochs = 20, batch_size = 128,\n",
    "                  validation_data = (test_images, test_labels))"
   ]
  },
  {
   "cell_type": "markdown",
   "metadata": {},
   "source": [
    "As before, we can best understand these results by creating plots of the loss and accuracy for training and evaluation vs. epoch. Executing the code in the two cells below to display these plots and study the results. "
   ]
  },
  {
   "cell_type": "code",
   "execution_count": 19,
   "metadata": {},
   "outputs": [
    {
     "data": {
      "image/png": "[encoded data removed]",
      "text/plain": [
       "<Figure size 432x288 with 1 Axes>"
      ]
     },
     "metadata": {
      "needs_background": "light"
     },
     "output_type": "display_data"
    }
   ],
   "source": [
    "plot_loss(history)  "
   ]
  },
  {
   "cell_type": "code",
   "execution_count": 20,
   "metadata": {
    "scrolled": true
   },
   "outputs": [
    {
     "data": {
      "image/png": "[encoded data removed]",
      "text/plain": [
       "<Figure size 432x288 with 1 Axes>"
      ]
     },
     "metadata": {
      "needs_background": "light"
     },
     "output_type": "display_data"
    }
   ],
   "source": [
    "plot_accuracy(history)    "
   ]
  },
  {
   "cell_type": "markdown",
   "metadata": {},
   "source": [
    "Notice that after epoch four the test loss actually increases, whereas the training loss continues to decrease. This is a clear indication of overfitting. \n",
    "\n",
    "When compared to the single layer, the over-fitting is more obvious. This should not be a suprise, since the number of weights has nearly doubled from the single layer model. "
   ]
  },
  {
   "cell_type": "markdown",
   "metadata": {},
   "source": [
    "## Adding regularization to the model\n",
    "\n",
    "Regularization is used to prevent over-fitting of machine learning models including neural networks. The Keras `regularizers` package provides L1 and L2 regularization methods. \n",
    "\n",
    "The code in the cell below adds the `kernel_regularizer` argument with the value of `regularizers.l2(0.01)` This adds a weight decay penalty of 0.01 to the model weights. "
   ]
  },
  {
   "cell_type": "code",
   "execution_count": 21,
   "metadata": {
    "scrolled": false
   },
   "outputs": [
    {
     "name": "stdout",
     "output_type": "stream",
     "text": [
      "Model: \"sequential_3\"\n",
      "_________________________________________________________________\n",
      "Layer (type)                 Output Shape              Param #   \n",
      "=================================================================\n",
      "dense_7 (Dense)              (None, 512)               401920    \n",
      "_________________________________________________________________\n",
      "dense_8 (Dense)              (None, 512)               262656    \n",
      "_________________________________________________________________\n",
      "dense_9 (Dense)              (None, 10)                5130      \n",
      "=================================================================\n",
      "Total params: 669,706\n",
      "Trainable params: 669,706\n",
      "Non-trainable params: 0\n",
      "_________________________________________________________________\n",
      "Train on 60000 samples, validate on 10000 samples\n",
      "Epoch 1/20\n",
      "60000/60000 [==============================] - 7s 111us/sample - loss: 0.6380 - accuracy: 0.9228 - val_loss: 0.2962 - val_accuracy: 0.9652\n",
      "Epoch 2/20\n",
      "60000/60000 [==============================] - 6s 104us/sample - loss: 0.2658 - accuracy: 0.9609 - val_loss: 0.2746 - val_accuracy: 0.9450\n",
      "Epoch 3/20\n",
      "60000/60000 [==============================] - 6s 105us/sample - loss: 0.2063 - accuracy: 0.9668 - val_loss: 0.1863 - val_accuracy: 0.9708\n",
      "Epoch 4/20\n",
      "60000/60000 [==============================] - 7s 110us/sample - loss: 0.1782 - accuracy: 0.9714 - val_loss: 0.1737 - val_accuracy: 0.9689\n",
      "Epoch 5/20\n",
      "60000/60000 [==============================] - 6s 104us/sample - loss: 0.1622 - accuracy: 0.9734 - val_loss: 0.1591 - val_accuracy: 0.9739\n",
      "Epoch 6/20\n",
      "60000/60000 [==============================] - 6s 108us/sample - loss: 0.1512 - accuracy: 0.9746 - val_loss: 0.2523 - val_accuracy: 0.9393\n",
      "Epoch 7/20\n",
      "60000/60000 [==============================] - 7s 114us/sample - loss: 0.1419 - accuracy: 0.9763 - val_loss: 0.1461 - val_accuracy: 0.9749\n",
      "Epoch 8/20\n",
      "60000/60000 [==============================] - 6s 103us/sample - loss: 0.1363 - accuracy: 0.9776 - val_loss: 0.1549 - val_accuracy: 0.9723\n",
      "Epoch 9/20\n",
      "60000/60000 [==============================] - 6s 105us/sample - loss: 0.1313 - accuracy: 0.9784 - val_loss: 0.1298 - val_accuracy: 0.9799\n",
      "Epoch 10/20\n",
      "60000/60000 [==============================] - 6s 104us/sample - loss: 0.1279 - accuracy: 0.9784 - val_loss: 0.1391 - val_accuracy: 0.9753\n",
      "Epoch 11/20\n",
      "60000/60000 [==============================] - 6s 103us/sample - loss: 0.1254 - accuracy: 0.9792 - val_loss: 0.1783 - val_accuracy: 0.9607\n",
      "Epoch 12/20\n",
      "60000/60000 [==============================] - 6s 105us/sample - loss: 0.1215 - accuracy: 0.9800 - val_loss: 0.1369 - val_accuracy: 0.9776\n",
      "Epoch 13/20\n",
      "60000/60000 [==============================] - 6s 104us/sample - loss: 0.1195 - accuracy: 0.9796 - val_loss: 0.1403 - val_accuracy: 0.9743\n",
      "Epoch 14/20\n",
      "60000/60000 [==============================] - 6s 103us/sample - loss: 0.1171 - accuracy: 0.9804 - val_loss: 0.1506 - val_accuracy: 0.9703\n",
      "Epoch 15/20\n",
      "60000/60000 [==============================] - 6s 105us/sample - loss: 0.1155 - accuracy: 0.9808 - val_loss: 0.1494 - val_accuracy: 0.9698\n",
      "Epoch 16/20\n",
      "60000/60000 [==============================] - 6s 107us/sample - loss: 0.1138 - accuracy: 0.9808 - val_loss: 0.1247 - val_accuracy: 0.9784\n",
      "Epoch 17/20\n",
      "60000/60000 [==============================] - 6s 104us/sample - loss: 0.1115 - accuracy: 0.9810 - val_loss: 0.1273 - val_accuracy: 0.9773\n",
      "Epoch 18/20\n",
      "60000/60000 [==============================] - 6s 106us/sample - loss: 0.1114 - accuracy: 0.9815 - val_loss: 0.1447 - val_accuracy: 0.9729\n",
      "Epoch 19/20\n",
      "60000/60000 [==============================] - 6s 105us/sample - loss: 0.1105 - accuracy: 0.9816 - val_loss: 0.1680 - val_accuracy: 0.9633\n",
      "Epoch 20/20\n",
      "60000/60000 [==============================] - 6s 103us/sample - loss: 0.1071 - accuracy: 0.9826 - val_loss: 0.1280 - val_accuracy: 0.9759\n"
     ]
    }
   ],
   "source": [
    "## Define the layers of the sequential model and print a summary\n",
    "nnt = models.Sequential()\n",
    "nnt.add(layers.Dense(512, activation = 'relu', input_shape = (28*28, ),\n",
    "                        kernel_regularizer=regularizers.l2(0.001)))\n",
    "nnt.add(layers.Dense(512, activation = 'relu', kernel_regularizer=regularizers.l2(0.001)))\n",
    "nnt.add(layers.Dense(10, activation = 'softmax'))\n",
    "nnt.summary()\n",
    "\n",
    "## Define an optimzer object and compile the model\n",
    "optimizer = RMSprop()\n",
    "nnt.compile(optimizer = optimizer, loss = 'categorical_crossentropy', metrics = ['accuracy'])\n",
    "    \n",
    "## Fit the compiled model \n",
    "nr.seed(8765)   \n",
    "history = nnt.fit(train_images, train_labels, \n",
    "                  epochs = 20, batch_size = 128,\n",
    "                  validation_data = (test_images, test_labels))"
   ]
  },
  {
   "cell_type": "markdown",
   "metadata": {},
   "source": [
    "Once again, we can best understand these results by creating plots of the loss and accuracy for training and evaluation vs. epoch. Executing the code in the two cells below to display these plots and study the results. "
   ]
  },
  {
   "cell_type": "code",
   "execution_count": 22,
   "metadata": {
    "scrolled": false
   },
   "outputs": [
    {
     "data": {
      "image/png": "[encoded data removed]",
      "text/plain": [
       "<Figure size 432x288 with 1 Axes>"
      ]
     },
     "metadata": {
      "needs_background": "light"
     },
     "output_type": "display_data"
    }
   ],
   "source": [
    "plot_loss(history)  "
   ]
  },
  {
   "cell_type": "code",
   "execution_count": 23,
   "metadata": {
    "scrolled": true
   },
   "outputs": [
    {
     "data": {
      "image/png": "[encoded data removed]",
      "text/plain": [
       "<Figure size 432x288 with 1 Axes>"
      ]
     },
     "metadata": {
      "needs_background": "light"
     },
     "output_type": "display_data"
    }
   ],
   "source": [
    "plot_accuracy(history)    "
   ]
  },
  {
   "cell_type": "markdown",
   "metadata": {},
   "source": [
    "Comparing these results to the previous un-regularized model. "
   ]
  },
  {
   "cell_type": "markdown",
   "metadata": {},
   "source": [
    "###### We can conclude that the model with regularization performed better and was more consistence with the results (didn't overfit the data)"
   ]
  }
 ],
 "metadata": {
  "anaconda-cloud": {},
  "kernelspec": {
   "display_name": "Python 3",
   "language": "python",
   "name": "python3"
  },
  "language_info": {
   "codemirror_mode": {
    "name": "ipython",
    "version": 3
   },
   "file_extension": ".py",
   "mimetype": "text/x-python",
   "name": "python",
   "nbconvert_exporter": "python",
   "pygments_lexer": "ipython3",
   "version": "3.7.3"
  }
 },
 "nbformat": 4,
 "nbformat_minor": 1
}
